{
 "cells": [
  {
   "cell_type": "code",
   "execution_count": 6,
   "metadata": {},
   "outputs": [
    {
     "name": "stdout",
     "output_type": "stream",
     "text": [
      "[1, 2, 3, 4]\n",
      "[1, 2, 3, 4, 6] 950363494024\n",
      "[1, 2, 3, 4, 6] 950363494024\n",
      "[1, 2, 3, 4] 950363410632\n"
     ]
    }
   ],
   "source": [
    "# python arrays can be defined \n",
    "#directly no  need to\n",
    "#specify datatypes or length\n",
    "a = [1,2,3,4]\n",
    "print(a)\n",
    "b=a\n",
    "c=a.copy()\n",
    "a.append(6)\n",
    "print(b,id(b))\n",
    "print(a,id(a))\n",
    "print(c,id(c))"
   ]
  },
  {
   "cell_type": "code",
   "execution_count": 10,
   "metadata": {},
   "outputs": [
    {
     "name": "stdout",
     "output_type": "stream",
     "text": [
      "[11, 12, 13, 14, 55, 33, 22, 15]\n"
     ]
    }
   ],
   "source": [
    "numbers = [11, 11, 12, 13, 14, 55, 55, 33, 22, 15]\n",
    "\n",
    "new_numbers = list(dict.fromkeys(numbers))\n",
    "\n",
    "print(new_numbers)"
   ]
  },
  {
   "cell_type": "code",
   "execution_count": null,
   "metadata": {},
   "outputs": [],
   "source": []
  }
 ],
 "metadata": {
  "kernelspec": {
   "display_name": "Python 3",
   "language": "python",
   "name": "python3"
  },
  "language_info": {
   "codemirror_mode": {
    "name": "ipython",
    "version": 3
   },
   "file_extension": ".py",
   "mimetype": "text/x-python",
   "name": "python",
   "nbconvert_exporter": "python",
   "pygments_lexer": "ipython3",
   "version": "3.7.6"
  }
 },
 "nbformat": 4,
 "nbformat_minor": 4
}
